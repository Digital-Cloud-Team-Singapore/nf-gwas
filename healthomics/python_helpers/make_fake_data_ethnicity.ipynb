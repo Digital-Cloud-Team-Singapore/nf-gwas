{
 "cells": [
  {
   "cell_type": "markdown",
   "id": "04f9a745-2335-4485-8eb7-49b7f3b9c2af",
   "metadata": {},
   "source": [
    "# imports"
   ]
  },
  {
   "cell_type": "code",
   "execution_count": 49,
   "id": "8ee141cf-15ba-43f0-a064-680f2f54125f",
   "metadata": {},
   "outputs": [],
   "source": [
    "import random\n",
    "\n",
    "import numpy as np\n",
    "from tqdm import tqdm"
   ]
  },
  {
   "cell_type": "markdown",
   "id": "869c9f68-a4e4-43c8-aa93-6404e5ae6a6a",
   "metadata": {},
   "source": [
    "# open original vcf file"
   ]
  },
  {
   "cell_type": "code",
   "execution_count": 50,
   "id": "e68ebf31-994b-41df-a255-ed7664e22c46",
   "metadata": {},
   "outputs": [],
   "source": [
    "with open(\"/Users/minhtoo.lin/repos/nf-gwas/tests/input/pipeline/example.vcf\", \"r\") as f:\n",
    "    vcf_orig = f.readlines()\n",
    "\n",
    "header_lines_orig = vcf_orig[:6]"
   ]
  },
  {
   "cell_type": "markdown",
   "id": "af3f7a1c-f2b8-4abb-a52b-e9b7a4a25ee4",
   "metadata": {},
   "source": [
    "# params"
   ]
  },
  {
   "cell_type": "code",
   "execution_count": 54,
   "id": "3cfd5433-37f5-4e09-ac82-1aa1b8982142",
   "metadata": {},
   "outputs": [
    {
     "name": "stdout",
     "output_type": "stream",
     "text": [
      "4762\n"
     ]
    }
   ],
   "source": [
    "# num_positions = 40_000\n",
    "# num_individuals = 100_000\n",
    "# num_positions = 1_000_000\n",
    "# num_individuals = 50_000\n",
    "num_positions = 100_002\n",
    "num_individuals = 100_000\n",
    "num_chromosomes = 21\n",
    "# 22nd chromosome is sex chromosome, plink2 doesn't accept it directly, mafan.\n",
    "\n",
    "ethnic_groups_to_ratios = {\n",
    "    \"chinese\": 0.6,\n",
    "    \"malay\": 0.15,\n",
    "    \"indian\": 0.15,\n",
    "    \"others\": 0.1\n",
    "}\n",
    "assert sum(ethnic_groups_to_ratios.values()) == 1\n",
    "\n",
    "assert num_positions % num_chromosomes == 0\n",
    "variants_per_chromosome = num_positions // num_chromosomes\n",
    "print(variants_per_chromosome)\n",
    "\n",
    "# prev VCF (16 GB) was 100k positions x 100k individuals\n",
    "# new VC (200 GB) is 1 million position x 50k individuals"
   ]
  },
  {
   "cell_type": "markdown",
   "id": "8595ceee-07bb-4c62-b921-bc819ea8e07f",
   "metadata": {},
   "source": [
    "# prepare new chromosome header line"
   ]
  },
  {
   "cell_type": "code",
   "execution_count": 59,
   "id": "ae58c404-2206-4d2f-8672-cd72aa52bedd",
   "metadata": {
    "scrolled": true
   },
   "outputs": [
    {
     "name": "stdout",
     "output_type": "stream",
     "text": [
      "processing ethnic group: chinese with ratio: 0.6\n",
      "num indivs for group: 60000\n"
     ]
    },
    {
     "name": "stderr",
     "output_type": "stream",
     "text": [
      "  5%|████▌                                                                                           | 4778/100002 [00:42<13:35, 116.73it/s]"
     ]
    },
    {
     "name": "stdout",
     "output_type": "stream",
     "text": [
      "incrementing chromosome index by 1, from 1\n"
     ]
    },
    {
     "name": "stderr",
     "output_type": "stream",
     "text": [
      " 10%|█████████▏                                                                                      | 9542/100002 [01:23<13:01, 115.77it/s]"
     ]
    },
    {
     "name": "stdout",
     "output_type": "stream",
     "text": [
      "incrementing chromosome index by 1, from 2\n"
     ]
    },
    {
     "name": "stderr",
     "output_type": "stream",
     "text": [
      " 14%|█████████████▌                                                                                 | 14306/100002 [02:04<12:18, 115.97it/s]"
     ]
    },
    {
     "name": "stdout",
     "output_type": "stream",
     "text": [
      "incrementing chromosome index by 1, from 3\n"
     ]
    },
    {
     "name": "stderr",
     "output_type": "stream",
     "text": [
      " 19%|██████████████████                                                                             | 19066/100002 [02:46<11:35, 116.39it/s]"
     ]
    },
    {
     "name": "stdout",
     "output_type": "stream",
     "text": [
      "incrementing chromosome index by 1, from 4\n"
     ]
    },
    {
     "name": "stderr",
     "output_type": "stream",
     "text": [
      " 24%|██████████████████████▋                                                                        | 23830/100002 [03:27<10:58, 115.74it/s]"
     ]
    },
    {
     "name": "stdout",
     "output_type": "stream",
     "text": [
      "incrementing chromosome index by 1, from 5\n"
     ]
    },
    {
     "name": "stderr",
     "output_type": "stream",
     "text": [
      " 29%|███████████████████████████▏                                                                   | 28594/100002 [04:08<10:11, 116.71it/s]"
     ]
    },
    {
     "name": "stdout",
     "output_type": "stream",
     "text": [
      "incrementing chromosome index by 1, from 6\n"
     ]
    },
    {
     "name": "stderr",
     "output_type": "stream",
     "text": [
      " 33%|████████████████████████████████                                                                | 33353/100002 [38:15<38:02, 29.19it/s]"
     ]
    },
    {
     "name": "stdout",
     "output_type": "stream",
     "text": [
      "incrementing chromosome index by 1, from 7\n"
     ]
    },
    {
     "name": "stderr",
     "output_type": "stream",
     "text": [
      " 38%|███████████████████████████████████▍                                                         | 38112/100002 [1:01:39<09:15, 111.31it/s]"
     ]
    },
    {
     "name": "stdout",
     "output_type": "stream",
     "text": [
      "incrementing chromosome index by 1, from 8\n"
     ]
    },
    {
     "name": "stderr",
     "output_type": "stream",
     "text": [
      " 43%|███████████████████████████████████████▊                                                     | 42864/100002 [2:11:00<08:48, 108.01it/s]"
     ]
    },
    {
     "name": "stdout",
     "output_type": "stream",
     "text": [
      "incrementing chromosome index by 1, from 9\n"
     ]
    },
    {
     "name": "stderr",
     "output_type": "stream",
     "text": [
      " 48%|████████████████████████████████████████████▎                                                | 47636/100002 [3:33:37<07:51, 111.09it/s]"
     ]
    },
    {
     "name": "stdout",
     "output_type": "stream",
     "text": [
      "incrementing chromosome index by 1, from 10\n"
     ]
    },
    {
     "name": "stderr",
     "output_type": "stream",
     "text": [
      " 52%|████████████████████████████████████████████████▋                                            | 52404/100002 [4:54:28<06:46, 117.11it/s]"
     ]
    },
    {
     "name": "stdout",
     "output_type": "stream",
     "text": [
      "incrementing chromosome index by 1, from 11\n"
     ]
    },
    {
     "name": "stderr",
     "output_type": "stream",
     "text": [
      " 57%|█████████████████████████████████████████████████████▏                                       | 57167/100002 [6:38:03<06:00, 118.78it/s]"
     ]
    },
    {
     "name": "stdout",
     "output_type": "stream",
     "text": [
      "incrementing chromosome index by 1, from 12\n"
     ]
    },
    {
     "name": "stderr",
     "output_type": "stream",
     "text": [
      " 62%|██████████████████████████████████████████████████████████▏                                   | 61922/100002 [8:47:11<40:38, 15.61it/s]"
     ]
    },
    {
     "name": "stdout",
     "output_type": "stream",
     "text": [
      "incrementing chromosome index by 1, from 13\n"
     ]
    },
    {
     "name": "stderr",
     "output_type": "stream",
     "text": [
      " 67%|██████████████████████████████████████████████████████████████                               | 66686/100002 [9:44:57<05:01, 110.59it/s]"
     ]
    },
    {
     "name": "stdout",
     "output_type": "stream",
     "text": [
      "incrementing chromosome index by 1, from 14\n"
     ]
    },
    {
     "name": "stderr",
     "output_type": "stream",
     "text": [
      " 71%|██████████████████████████████████████████████████████████████████▍                          | 71444/100002 [9:45:41<04:16, 111.18it/s]"
     ]
    },
    {
     "name": "stdout",
     "output_type": "stream",
     "text": [
      "incrementing chromosome index by 1, from 15\n"
     ]
    },
    {
     "name": "stderr",
     "output_type": "stream",
     "text": [
      " 76%|██████████████████████████████████████████████████████████████████████▊                      | 76209/100002 [9:46:22<03:29, 113.54it/s]"
     ]
    },
    {
     "name": "stdout",
     "output_type": "stream",
     "text": [
      "incrementing chromosome index by 1, from 16\n"
     ]
    },
    {
     "name": "stderr",
     "output_type": "stream",
     "text": [
      " 81%|███████████████████████████████████████████████████████████████████████████▎                 | 80974/100002 [9:47:04<02:46, 114.31it/s]"
     ]
    },
    {
     "name": "stdout",
     "output_type": "stream",
     "text": [
      "incrementing chromosome index by 1, from 17\n"
     ]
    },
    {
     "name": "stderr",
     "output_type": "stream",
     "text": [
      " 86%|███████████████████████████████████████████████████████████████████████████████▋             | 85730/100002 [9:47:48<02:11, 108.62it/s]"
     ]
    },
    {
     "name": "stdout",
     "output_type": "stream",
     "text": [
      "incrementing chromosome index by 1, from 18\n"
     ]
    },
    {
     "name": "stderr",
     "output_type": "stream",
     "text": [
      " 90%|████████████████████████████████████████████████████████████████████████████████████▏        | 90493/100002 [9:48:31<01:27, 108.39it/s]"
     ]
    },
    {
     "name": "stdout",
     "output_type": "stream",
     "text": [
      "incrementing chromosome index by 1, from 19\n"
     ]
    },
    {
     "name": "stderr",
     "output_type": "stream",
     "text": [
      " 95%|████████████████████████████████████████████████████████████████████████████████████████▌    | 95260/100002 [9:49:15<00:43, 108.41it/s]"
     ]
    },
    {
     "name": "stdout",
     "output_type": "stream",
     "text": [
      "incrementing chromosome index by 1, from 20\n"
     ]
    },
    {
     "name": "stderr",
     "output_type": "stream",
     "text": [
      "100%|█████████████████████████████████████████████████████████████████████████████████████████████| 100002/100002 [9:49:58<00:00,  2.82it/s]\n"
     ]
    },
    {
     "name": "stdout",
     "output_type": "stream",
     "text": [
      "incrementing chromosome index by 1, from 21\n",
      "processing ethnic group: malay with ratio: 0.15\n",
      "num indivs for group: 15000\n"
     ]
    },
    {
     "name": "stderr",
     "output_type": "stream",
     "text": [
      "  5%|████▋                                                                                           | 4845/100002 [00:11<03:36, 439.32it/s]"
     ]
    },
    {
     "name": "stdout",
     "output_type": "stream",
     "text": [
      "incrementing chromosome index by 1, from 1\n"
     ]
    },
    {
     "name": "stderr",
     "output_type": "stream",
     "text": [
      " 10%|█████████▏                                                                                      | 9573/100002 [00:22<03:29, 431.97it/s]"
     ]
    },
    {
     "name": "stdout",
     "output_type": "stream",
     "text": [
      "incrementing chromosome index by 1, from 2\n"
     ]
    },
    {
     "name": "stderr",
     "output_type": "stream",
     "text": [
      " 14%|█████████████▋                                                                                 | 14356/100002 [00:33<03:14, 441.02it/s]"
     ]
    },
    {
     "name": "stdout",
     "output_type": "stream",
     "text": [
      "incrementing chromosome index by 1, from 3\n"
     ]
    },
    {
     "name": "stderr",
     "output_type": "stream",
     "text": [
      " 19%|██████████████████▏                                                                            | 19136/100002 [00:44<03:01, 445.51it/s]"
     ]
    },
    {
     "name": "stdout",
     "output_type": "stream",
     "text": [
      "incrementing chromosome index by 1, from 4\n"
     ]
    },
    {
     "name": "stderr",
     "output_type": "stream",
     "text": [
      " 24%|██████████████████████▋                                                                        | 23863/100002 [00:54<02:47, 455.16it/s]"
     ]
    },
    {
     "name": "stdout",
     "output_type": "stream",
     "text": [
      "incrementing chromosome index by 1, from 5\n"
     ]
    },
    {
     "name": "stderr",
     "output_type": "stream",
     "text": [
      " 29%|███████████████████████████▏                                                                   | 28620/100002 [01:05<02:43, 435.51it/s]"
     ]
    },
    {
     "name": "stdout",
     "output_type": "stream",
     "text": [
      "incrementing chromosome index by 1, from 6\n"
     ]
    },
    {
     "name": "stderr",
     "output_type": "stream",
     "text": [
      " 33%|███████████████████████████████▋                                                               | 33393/100002 [01:16<02:34, 431.47it/s]"
     ]
    },
    {
     "name": "stdout",
     "output_type": "stream",
     "text": [
      "incrementing chromosome index by 1, from 7\n"
     ]
    },
    {
     "name": "stderr",
     "output_type": "stream",
     "text": [
      " 38%|████████████████████████████████████▏                                                          | 38149/100002 [01:27<02:17, 450.00it/s]"
     ]
    },
    {
     "name": "stdout",
     "output_type": "stream",
     "text": [
      "incrementing chromosome index by 1, from 8\n"
     ]
    },
    {
     "name": "stderr",
     "output_type": "stream",
     "text": [
      " 43%|████████████████████████████████████████▊                                                      | 42911/100002 [01:38<02:08, 444.31it/s]"
     ]
    },
    {
     "name": "stdout",
     "output_type": "stream",
     "text": [
      "incrementing chromosome index by 1, from 9\n"
     ]
    },
    {
     "name": "stderr",
     "output_type": "stream",
     "text": [
      " 48%|█████████████████████████████████████████████▎                                                 | 47694/100002 [01:48<01:58, 442.71it/s]"
     ]
    },
    {
     "name": "stdout",
     "output_type": "stream",
     "text": [
      "incrementing chromosome index by 1, from 10\n"
     ]
    },
    {
     "name": "stderr",
     "output_type": "stream",
     "text": [
      " 52%|█████████████████████████████████████████████████▊                                             | 52426/100002 [02:00<01:57, 406.01it/s]"
     ]
    },
    {
     "name": "stdout",
     "output_type": "stream",
     "text": [
      "incrementing chromosome index by 1, from 11\n"
     ]
    },
    {
     "name": "stderr",
     "output_type": "stream",
     "text": [
      " 57%|██████████████████████████████████████████████████████▎                                        | 57196/100002 [02:11<01:49, 392.57it/s]"
     ]
    },
    {
     "name": "stdout",
     "output_type": "stream",
     "text": [
      "incrementing chromosome index by 1, from 12\n"
     ]
    },
    {
     "name": "stderr",
     "output_type": "stream",
     "text": [
      " 62%|██████████████████████████████████████████████████████████▉                                    | 61975/100002 [02:22<01:28, 430.24it/s]"
     ]
    },
    {
     "name": "stdout",
     "output_type": "stream",
     "text": [
      "incrementing chromosome index by 1, from 13\n"
     ]
    },
    {
     "name": "stderr",
     "output_type": "stream",
     "text": [
      " 67%|███████████████████████████████████████████████████████████████▍                               | 66728/100002 [02:34<01:14, 443.86it/s]"
     ]
    },
    {
     "name": "stdout",
     "output_type": "stream",
     "text": [
      "incrementing chromosome index by 1, from 14\n"
     ]
    },
    {
     "name": "stderr",
     "output_type": "stream",
     "text": [
      " 71%|███████████████████████████████████████████████████████████████████▉                           | 71492/100002 [02:45<01:07, 420.11it/s]"
     ]
    },
    {
     "name": "stdout",
     "output_type": "stream",
     "text": [
      "incrementing chromosome index by 1, from 15\n"
     ]
    },
    {
     "name": "stderr",
     "output_type": "stream",
     "text": [
      " 76%|████████████████████████████████████████████████████████████████████████▍                      | 76262/100002 [02:57<00:57, 415.61it/s]"
     ]
    },
    {
     "name": "stdout",
     "output_type": "stream",
     "text": [
      "incrementing chromosome index by 1, from 16\n"
     ]
    },
    {
     "name": "stderr",
     "output_type": "stream",
     "text": [
      " 81%|████████████████████████████████████████████████████████████████████████████▉                  | 81021/100002 [03:09<00:44, 423.17it/s]"
     ]
    },
    {
     "name": "stdout",
     "output_type": "stream",
     "text": [
      "incrementing chromosome index by 1, from 17\n"
     ]
    },
    {
     "name": "stderr",
     "output_type": "stream",
     "text": [
      " 86%|█████████████████████████████████████████████████████████████████████████████████▍             | 85772/100002 [03:20<00:33, 430.74it/s]"
     ]
    },
    {
     "name": "stdout",
     "output_type": "stream",
     "text": [
      "incrementing chromosome index by 1, from 18\n"
     ]
    },
    {
     "name": "stderr",
     "output_type": "stream",
     "text": [
      " 91%|██████████████████████████████████████████████████████████████████████████████████████         | 90538/100002 [03:31<00:21, 437.78it/s]"
     ]
    },
    {
     "name": "stdout",
     "output_type": "stream",
     "text": [
      "incrementing chromosome index by 1, from 19\n"
     ]
    },
    {
     "name": "stderr",
     "output_type": "stream",
     "text": [
      " 95%|██████████████████████████████████████████████████████████████████████████████████████████▌    | 95320/100002 [03:42<00:10, 439.37it/s]"
     ]
    },
    {
     "name": "stdout",
     "output_type": "stream",
     "text": [
      "incrementing chromosome index by 1, from 20\n"
     ]
    },
    {
     "name": "stderr",
     "output_type": "stream",
     "text": [
      "100%|██████████████████████████████████████████████████████████████████████████████████████████████| 100002/100002 [03:53<00:00, 428.72it/s]\n"
     ]
    },
    {
     "name": "stdout",
     "output_type": "stream",
     "text": [
      "incrementing chromosome index by 1, from 21\n",
      "processing ethnic group: indian with ratio: 0.15\n",
      "num indivs for group: 15000\n"
     ]
    },
    {
     "name": "stderr",
     "output_type": "stream",
     "text": [
      "  5%|████▌                                                                                           | 4804/100002 [00:11<03:58, 399.41it/s]"
     ]
    },
    {
     "name": "stdout",
     "output_type": "stream",
     "text": [
      "incrementing chromosome index by 1, from 1\n"
     ]
    },
    {
     "name": "stderr",
     "output_type": "stream",
     "text": [
      " 10%|█████████▏                                                                                      | 9580/100002 [00:24<04:05, 368.03it/s]"
     ]
    },
    {
     "name": "stdout",
     "output_type": "stream",
     "text": [
      "incrementing chromosome index by 1, from 2\n"
     ]
    },
    {
     "name": "stderr",
     "output_type": "stream",
     "text": [
      " 14%|█████████████▋                                                                                 | 14364/100002 [00:36<03:28, 411.17it/s]"
     ]
    },
    {
     "name": "stdout",
     "output_type": "stream",
     "text": [
      "incrementing chromosome index by 1, from 3\n"
     ]
    },
    {
     "name": "stderr",
     "output_type": "stream",
     "text": [
      " 19%|██████████████████▏                                                                            | 19098/100002 [00:47<03:00, 449.31it/s]"
     ]
    },
    {
     "name": "stdout",
     "output_type": "stream",
     "text": [
      "incrementing chromosome index by 1, from 4\n"
     ]
    },
    {
     "name": "stderr",
     "output_type": "stream",
     "text": [
      " 24%|██████████████████████▋                                                                        | 23876/100002 [00:58<02:51, 444.19it/s]"
     ]
    },
    {
     "name": "stdout",
     "output_type": "stream",
     "text": [
      "incrementing chromosome index by 1, from 5\n"
     ]
    },
    {
     "name": "stderr",
     "output_type": "stream",
     "text": [
      " 29%|███████████████████████████▏                                                                   | 28627/100002 [01:08<02:45, 432.51it/s]"
     ]
    },
    {
     "name": "stdout",
     "output_type": "stream",
     "text": [
      "incrementing chromosome index by 1, from 6\n"
     ]
    },
    {
     "name": "stderr",
     "output_type": "stream",
     "text": [
      " 33%|███████████████████████████████▋                                                               | 33409/100002 [01:19<02:31, 438.29it/s]"
     ]
    },
    {
     "name": "stdout",
     "output_type": "stream",
     "text": [
      "incrementing chromosome index by 1, from 7\n"
     ]
    },
    {
     "name": "stderr",
     "output_type": "stream",
     "text": [
      " 38%|████████████████████████████████████▎                                                          | 38172/100002 [01:30<02:17, 448.78it/s]"
     ]
    },
    {
     "name": "stdout",
     "output_type": "stream",
     "text": [
      "incrementing chromosome index by 1, from 8\n"
     ]
    },
    {
     "name": "stderr",
     "output_type": "stream",
     "text": [
      " 43%|████████████████████████████████████████▊                                                      | 42909/100002 [01:41<02:06, 451.38it/s]"
     ]
    },
    {
     "name": "stdout",
     "output_type": "stream",
     "text": [
      "incrementing chromosome index by 1, from 9\n"
     ]
    },
    {
     "name": "stderr",
     "output_type": "stream",
     "text": [
      " 48%|█████████████████████████████████████████████▎                                                 | 47674/100002 [01:51<01:54, 455.49it/s]"
     ]
    },
    {
     "name": "stdout",
     "output_type": "stream",
     "text": [
      "incrementing chromosome index by 1, from 10\n"
     ]
    },
    {
     "name": "stderr",
     "output_type": "stream",
     "text": [
      " 52%|█████████████████████████████████████████████████▊                                             | 52432/100002 [02:02<01:45, 450.36it/s]"
     ]
    },
    {
     "name": "stdout",
     "output_type": "stream",
     "text": [
      "incrementing chromosome index by 1, from 11\n"
     ]
    },
    {
     "name": "stderr",
     "output_type": "stream",
     "text": [
      " 57%|██████████████████████████████████████████████████████▎                                        | 57203/100002 [02:13<01:38, 434.52it/s]"
     ]
    },
    {
     "name": "stdout",
     "output_type": "stream",
     "text": [
      "incrementing chromosome index by 1, from 12\n"
     ]
    },
    {
     "name": "stderr",
     "output_type": "stream",
     "text": [
      " 62%|██████████████████████████████████████████████████████████▊                                    | 61956/100002 [02:24<01:24, 449.12it/s]"
     ]
    },
    {
     "name": "stdout",
     "output_type": "stream",
     "text": [
      "incrementing chromosome index by 1, from 13\n"
     ]
    },
    {
     "name": "stderr",
     "output_type": "stream",
     "text": [
      " 67%|███████████████████████████████████████████████████████████████▍                               | 66753/100002 [02:35<01:14, 448.99it/s]"
     ]
    },
    {
     "name": "stdout",
     "output_type": "stream",
     "text": [
      "incrementing chromosome index by 1, from 14\n"
     ]
    },
    {
     "name": "stderr",
     "output_type": "stream",
     "text": [
      " 71%|███████████████████████████████████████████████████████████████████▉                           | 71490/100002 [02:45<01:04, 439.73it/s]"
     ]
    },
    {
     "name": "stdout",
     "output_type": "stream",
     "text": [
      "incrementing chromosome index by 1, from 15\n"
     ]
    },
    {
     "name": "stderr",
     "output_type": "stream",
     "text": [
      " 76%|████████████████████████████████████████████████████████████████████████▍                      | 76247/100002 [02:56<00:52, 453.36it/s]"
     ]
    },
    {
     "name": "stdout",
     "output_type": "stream",
     "text": [
      "incrementing chromosome index by 1, from 16\n"
     ]
    },
    {
     "name": "stderr",
     "output_type": "stream",
     "text": [
      " 81%|████████████████████████████████████████████████████████████████████████████▉                  | 81043/100002 [03:06<00:42, 451.26it/s]"
     ]
    },
    {
     "name": "stdout",
     "output_type": "stream",
     "text": [
      "incrementing chromosome index by 1, from 17\n"
     ]
    },
    {
     "name": "stderr",
     "output_type": "stream",
     "text": [
      " 86%|█████████████████████████████████████████████████████████████████████████████████▍             | 85767/100002 [03:18<00:32, 442.29it/s]"
     ]
    },
    {
     "name": "stdout",
     "output_type": "stream",
     "text": [
      "incrementing chromosome index by 1, from 18\n"
     ]
    },
    {
     "name": "stderr",
     "output_type": "stream",
     "text": [
      " 91%|█████████████████████████████████████████████████████████████████████████████████████▉         | 90527/100002 [03:28<00:23, 409.28it/s]"
     ]
    },
    {
     "name": "stdout",
     "output_type": "stream",
     "text": [
      "incrementing chromosome index by 1, from 19\n"
     ]
    },
    {
     "name": "stderr",
     "output_type": "stream",
     "text": [
      " 95%|██████████████████████████████████████████████████████████████████████████████████████████▌    | 95321/100002 [03:40<00:10, 431.67it/s]"
     ]
    },
    {
     "name": "stdout",
     "output_type": "stream",
     "text": [
      "incrementing chromosome index by 1, from 20\n"
     ]
    },
    {
     "name": "stderr",
     "output_type": "stream",
     "text": [
      "100%|██████████████████████████████████████████████████████████████████████████████████████████████| 100002/100002 [03:51<00:00, 432.54it/s]\n"
     ]
    },
    {
     "name": "stdout",
     "output_type": "stream",
     "text": [
      "incrementing chromosome index by 1, from 21\n",
      "processing ethnic group: others with ratio: 0.1\n",
      "num indivs for group: 10000\n"
     ]
    },
    {
     "name": "stderr",
     "output_type": "stream",
     "text": [
      "  5%|████▋                                                                                           | 4834/100002 [00:07<02:48, 564.75it/s]"
     ]
    },
    {
     "name": "stdout",
     "output_type": "stream",
     "text": [
      "incrementing chromosome index by 1, from 1\n"
     ]
    },
    {
     "name": "stderr",
     "output_type": "stream",
     "text": [
      " 10%|█████████▏                                                                                      | 9635/100002 [00:15<02:26, 618.50it/s]"
     ]
    },
    {
     "name": "stdout",
     "output_type": "stream",
     "text": [
      "incrementing chromosome index by 1, from 2\n"
     ]
    },
    {
     "name": "stderr",
     "output_type": "stream",
     "text": [
      " 14%|█████████████▋                                                                                 | 14396/100002 [00:23<02:20, 609.59it/s]"
     ]
    },
    {
     "name": "stdout",
     "output_type": "stream",
     "text": [
      "incrementing chromosome index by 1, from 3\n"
     ]
    },
    {
     "name": "stderr",
     "output_type": "stream",
     "text": [
      " 19%|██████████████████▏                                                                            | 19143/100002 [00:31<02:11, 613.65it/s]"
     ]
    },
    {
     "name": "stdout",
     "output_type": "stream",
     "text": [
      "incrementing chromosome index by 1, from 4\n"
     ]
    },
    {
     "name": "stderr",
     "output_type": "stream",
     "text": [
      " 24%|██████████████████████▋                                                                        | 23889/100002 [00:39<01:56, 654.42it/s]"
     ]
    },
    {
     "name": "stdout",
     "output_type": "stream",
     "text": [
      "incrementing chromosome index by 1, from 5\n"
     ]
    },
    {
     "name": "stderr",
     "output_type": "stream",
     "text": [
      " 29%|███████████████████████████▏                                                                   | 28656/100002 [00:47<02:05, 566.85it/s]"
     ]
    },
    {
     "name": "stdout",
     "output_type": "stream",
     "text": [
      "incrementing chromosome index by 1, from 6\n"
     ]
    },
    {
     "name": "stderr",
     "output_type": "stream",
     "text": [
      " 33%|███████████████████████████████▋                                                               | 33407/100002 [00:55<01:49, 605.73it/s]"
     ]
    },
    {
     "name": "stdout",
     "output_type": "stream",
     "text": [
      "incrementing chromosome index by 1, from 7\n"
     ]
    },
    {
     "name": "stderr",
     "output_type": "stream",
     "text": [
      " 38%|████████████████████████████████████▎                                                          | 38187/100002 [01:03<01:42, 604.14it/s]"
     ]
    },
    {
     "name": "stdout",
     "output_type": "stream",
     "text": [
      "incrementing chromosome index by 1, from 8\n"
     ]
    },
    {
     "name": "stderr",
     "output_type": "stream",
     "text": [
      " 43%|████████████████████████████████████████▊                                                      | 42959/100002 [01:11<01:31, 624.39it/s]"
     ]
    },
    {
     "name": "stdout",
     "output_type": "stream",
     "text": [
      "incrementing chromosome index by 1, from 9\n"
     ]
    },
    {
     "name": "stderr",
     "output_type": "stream",
     "text": [
      " 48%|█████████████████████████████████████████████▎                                                 | 47704/100002 [01:18<01:27, 597.96it/s]"
     ]
    },
    {
     "name": "stdout",
     "output_type": "stream",
     "text": [
      "incrementing chromosome index by 1, from 10\n"
     ]
    },
    {
     "name": "stderr",
     "output_type": "stream",
     "text": [
      " 52%|█████████████████████████████████████████████████▊                                             | 52466/100002 [01:26<01:12, 651.80it/s]"
     ]
    },
    {
     "name": "stdout",
     "output_type": "stream",
     "text": [
      "incrementing chromosome index by 1, from 11\n"
     ]
    },
    {
     "name": "stderr",
     "output_type": "stream",
     "text": [
      " 57%|██████████████████████████████████████████████████████▍                                        | 57261/100002 [01:34<01:08, 626.52it/s]"
     ]
    },
    {
     "name": "stdout",
     "output_type": "stream",
     "text": [
      "incrementing chromosome index by 1, from 12\n"
     ]
    },
    {
     "name": "stderr",
     "output_type": "stream",
     "text": [
      " 62%|██████████████████████████████████████████████████████████▉                                    | 62018/100002 [01:41<00:57, 660.57it/s]"
     ]
    },
    {
     "name": "stdout",
     "output_type": "stream",
     "text": [
      "incrementing chromosome index by 1, from 13\n"
     ]
    },
    {
     "name": "stderr",
     "output_type": "stream",
     "text": [
      " 67%|███████████████████████████████████████████████████████████████▍                               | 66773/100002 [01:48<00:49, 670.21it/s]"
     ]
    },
    {
     "name": "stdout",
     "output_type": "stream",
     "text": [
      "incrementing chromosome index by 1, from 14\n"
     ]
    },
    {
     "name": "stderr",
     "output_type": "stream",
     "text": [
      " 72%|███████████████████████████████████████████████████████████████████▉                           | 71506/100002 [01:55<00:42, 664.67it/s]"
     ]
    },
    {
     "name": "stdout",
     "output_type": "stream",
     "text": [
      "incrementing chromosome index by 1, from 15\n"
     ]
    },
    {
     "name": "stderr",
     "output_type": "stream",
     "text": [
      " 76%|████████████████████████████████████████████████████████████████████████▍                      | 76306/100002 [02:02<00:36, 655.51it/s]"
     ]
    },
    {
     "name": "stdout",
     "output_type": "stream",
     "text": [
      "incrementing chromosome index by 1, from 16\n"
     ]
    },
    {
     "name": "stderr",
     "output_type": "stream",
     "text": [
      " 81%|████████████████████████████████████████████████████████████████████████████▉                  | 81036/100002 [02:09<00:28, 655.82it/s]"
     ]
    },
    {
     "name": "stdout",
     "output_type": "stream",
     "text": [
      "incrementing chromosome index by 1, from 17\n"
     ]
    },
    {
     "name": "stderr",
     "output_type": "stream",
     "text": [
      " 86%|█████████████████████████████████████████████████████████████████████████████████▌             | 85825/100002 [02:17<00:21, 670.07it/s]"
     ]
    },
    {
     "name": "stdout",
     "output_type": "stream",
     "text": [
      "incrementing chromosome index by 1, from 18\n"
     ]
    },
    {
     "name": "stderr",
     "output_type": "stream",
     "text": [
      " 91%|██████████████████████████████████████████████████████████████████████████████████████         | 90567/100002 [02:24<00:14, 629.19it/s]"
     ]
    },
    {
     "name": "stdout",
     "output_type": "stream",
     "text": [
      "incrementing chromosome index by 1, from 19\n"
     ]
    },
    {
     "name": "stderr",
     "output_type": "stream",
     "text": [
      " 95%|██████████████████████████████████████████████████████████████████████████████████████████▌    | 95354/100002 [02:31<00:06, 670.52it/s]"
     ]
    },
    {
     "name": "stdout",
     "output_type": "stream",
     "text": [
      "incrementing chromosome index by 1, from 20\n"
     ]
    },
    {
     "name": "stderr",
     "output_type": "stream",
     "text": [
      "100%|██████████████████████████████████████████████████████████████████████████████████████████████| 100002/100002 [02:38<00:00, 629.49it/s]"
     ]
    },
    {
     "name": "stdout",
     "output_type": "stream",
     "text": [
      "incrementing chromosome index by 1, from 21\n"
     ]
    },
    {
     "name": "stderr",
     "output_type": "stream",
     "text": [
      "\n"
     ]
    }
   ],
   "source": [
    "# just copy the fixed part\n",
    "chrom_header_line_base = \"#CHROM\\tPOS\\tID\\tREF\\tALT\\tQUAL\\tFILTER\\tINFO\\tFORMAT\"\n",
    "GT_CHOICES = np.array([\"0/0\", \"0/1\", \"1/1\"])\n",
    "\n",
    "for group, ratio in ethnic_groups_to_ratios.items():\n",
    "    print(f\"processing ethnic group: {group} with ratio: {ratio}\")\n",
    "\n",
    "    num_indivs_for_group = int(ratio * num_individuals)\n",
    "    print(f\"num indivs for group: {num_indivs_for_group}\")\n",
    "    \n",
    "    chrom_header_line_chars = [chrom_header_line_base]\n",
    "    for i in range(1, num_indivs_for_group + 1):  # 1-indexed\n",
    "        chrom_header_line_chars.append(f\"\\t{i}\")\n",
    "    chrom_header_line_chars.append(\"\\n\")\n",
    "    \n",
    "    chrom_header_line_new = \"\".join(chrom_header_line_chars)\n",
    "    \n",
    "    with open(f\"../data/ethnic_data_v2/{num_positions}_variants_{num_indivs_for_group}_samples_{num_chromosomes}_chromosomes_{group}_ethnicity.vcf\", \"w\") as f:\n",
    "        # write 6 header lines\n",
    "        f.writelines(header_lines_orig)\n",
    "        # write new chromosome header line\n",
    "        f.write(chrom_header_line_new)\n",
    "\n",
    "        chromosome_idx = 1\n",
    "        for row_idx in tqdm(range(1, num_positions + 1)):  # 1-indexed, up to num_position rows\n",
    "            line_base = f\"{chromosome_idx}\\t{row_idx}\\t{row_idx}\\t2\\t1\\t.\\t.\\tPR\\tGT\"\n",
    "            curr_line_chars = [line_base]\n",
    "            \n",
    "            randints = np.random.randint(0, len(GT_CHOICES), size=(num_indivs_for_group))\n",
    "            curr_line_chars.append(\"\\t\")\n",
    "            curr_line_chars.append(\"\\t\".join(GT_CHOICES[randints]))\n",
    "            curr_line_chars.append(\"\\n\")\n",
    "    \n",
    "            f.write(\"\".join(curr_line_chars))\n",
    "            \n",
    "            if row_idx % variants_per_chromosome == 0:\n",
    "                print(f\"incrementing chromosome index by 1, from {chromosome_idx}\")\n",
    "                chromosome_idx += 1"
   ]
  },
  {
   "cell_type": "markdown",
   "id": "38f81030-aecf-42e5-a819-787f64c7337f",
   "metadata": {},
   "source": [
    "# write fake phenotypes file"
   ]
  },
  {
   "cell_type": "code",
   "execution_count": 34,
   "id": "112c7c42-fdd5-41fe-ac61-a95be412a056",
   "metadata": {},
   "outputs": [
    {
     "name": "stdout",
     "output_type": "stream",
     "text": [
      "processing ethnic group: chinese with ratio: 0.6\n",
      "num indivs for group: 60000\n"
     ]
    },
    {
     "name": "stderr",
     "output_type": "stream",
     "text": [
      "100%|█████████████████████████████████████████████████████████████████████████████████████████████████████| 60000/60000 [00:03<00:00, 15363.61it/s]\n"
     ]
    },
    {
     "name": "stdout",
     "output_type": "stream",
     "text": [
      "processing ethnic group: malay with ratio: 0.15\n",
      "num indivs for group: 15000\n"
     ]
    },
    {
     "name": "stderr",
     "output_type": "stream",
     "text": [
      "100%|█████████████████████████████████████████████████████████████████████████████████████████████████████| 15000/15000 [00:01<00:00, 14908.21it/s]\n"
     ]
    },
    {
     "name": "stdout",
     "output_type": "stream",
     "text": [
      "processing ethnic group: indians with ratio: 0.15\n",
      "num indivs for group: 15000\n"
     ]
    },
    {
     "name": "stderr",
     "output_type": "stream",
     "text": [
      "100%|█████████████████████████████████████████████████████████████████████████████████████████████████████| 15000/15000 [00:01<00:00, 14673.66it/s]\n"
     ]
    },
    {
     "name": "stdout",
     "output_type": "stream",
     "text": [
      "processing ethnic group: others with ratio: 0.1\n",
      "num indivs for group: 10000\n"
     ]
    },
    {
     "name": "stderr",
     "output_type": "stream",
     "text": [
      "100%|█████████████████████████████████████████████████████████████████████████████████████████████████████| 10000/10000 [00:00<00:00, 14953.21it/s]\n"
     ]
    }
   ],
   "source": [
    "num_phenotypes_total = 100\n",
    "num_phenotypes_per_file = 100\n",
    "\n",
    "assert num_phenotypes_total % num_phenotypes_per_file == 0\n",
    "\n",
    "phenotypes_list = [\n",
    "    \"diabetes_susceptibility_TCF7L3\",\n",
    "    \"diabetes_susceptibility_TCF7L4\",\n",
    "    \"cancer_susceptibility_TP54\",\n",
    "    \"facial_morphology_AXIN2\",\n",
    "    \"cognitive_performance_NTRK1\",\n",
    "    \"circadian_rhythm_PER2\",\n",
    "    \"leptin_resistance_A829C\",\n",
    "    \"blood_pressure_RS1711\",\n",
    "    \"lipid_metabolism_LPL-94C>T\",\n",
    "    \"amino_acid_metabolism_GATM-23G>A\",\n",
    "    \"sugar_metabolism_HNF1A-177G>C\",\n",
    "    \"memory_performance_BDNF\",\n",
    "    \"attention_span_DRD4-7R\",\n",
    "    \"intelligence_CMIP\",\n",
    "    \"cardiovascular_risk_9p21\",\n",
    "    \"diabetes_susceptibility_TCF7L2\",\n",
    "    \"cancer_susceptibility_TP53\",\n",
    "    \"sleep_duration_DEC2\",\n",
    "    \"morning_activity_PER3\",\n",
    "    \"evening_activity_CRY1\",\n",
    "    \"bone_density_OPN-660T>C\",\n",
    "    \"muscle_mass_ACTN3-R577X\",\n",
    "    \"hair_texture_HH-116G>A\",\n",
    "    \"earlobe_attachment_RS7794745\",\n",
    "    \"taste_preference_TAS2R38-PAV\",\n",
    "    \"olive_oil_sensitivity_OLE1\",\n",
    "    \"caffeine_metabolism_CYP1A2-163C>A\",\n",
    "    \"vitamin_d_metabolism_VDR-2228570\",\n",
    "    \"inflammation_response_IL6\",\n",
    "    \"allergic_susceptibility_HLA-DQ\",\n",
    "    \"musical_aptitude_SLC6A4\",\n",
    "    \"math_ability_FOXP2\",\n",
    "    \"language_acquisition_CNTNAP2\",\n",
    "    \"emotional_resilience_NPY\",\n",
    "    \"stress_response_CRHR1\",\n",
    "    \"immunodeficiency_IL2RG\",\n",
    "    \"gut_microbiome_composition_FUT2\",\n",
    "    \"thyroid_function_TPO\",\n",
    "    \"hormone_sensitivity_ESR1\",\n",
    "    \"age-cognitive_decline_APOE\",\n",
    "    \"neurodegenerative_risk_PSEN1\",\n",
    "    \"anaesthetic_response_SLC22A1\",\n",
    "    \"alcohol_metabolism_ADH1B\",\n",
    "    \"drug_response_CYP2D6\",\n",
    "    \"tooth_enamel_thickness_AMELX\",\n",
    "    \"tendon_strength_TNC\",\n",
    "    \"joint_mobility_COL5A1\",\n",
    "    \"eczema_susceptibility_FLG\",\n",
    "    \"scoliosis_predisposition_LMX1B\",\n",
    "    \"keloid_formation_TGFBR2\",\n",
    "    \"tumor_suppressor_TP53\",\n",
    "    \"telomere_length_TERT\",\n",
    "    \"hemoglobin_variant_HBB-7C>T\",\n",
    "    \"blood_clotting_F5\",\n",
    "    \"migraine_susceptibility_MTHFR\",\n",
    "    \"tinnitus_prevalence_16p11.2\",\n",
    "    \"colour_blindness_OPN1LW/OPN1MW\",\n",
    "    \"depth_perception_GNB3\",\n",
    "    \"muscle_fiber_composition_MYH7\",\n",
    "    \"sweat_gland_density_CFTR\",\n",
    "    \"finger_length_ratio_HOXA13\",\n",
    "    \"voice_pitch_AR\",\n",
    "    \"blisters_variant_COL7A1\",\n",
    "    \"scar_tissue_TGFB1\",\n",
    "    \"sleep_talking_ADH1B\",\n",
    "    \"dream_recollection_CACNA1C\",\n",
    "    \"sensory_processing_ADRA2B\",\n",
    "    \"hypermobility_syndrome_TNC\",\n",
    "    \"joint_hypermobility_COL1A1\",\n",
    "    \"osteoarthritis_GDF5\",\n",
    "    \"varicose_veins_FGG\",\n",
    "    \"vaccine_response_HLA-A\",\n",
    "    \"drug_addiction_DRD2\",\n",
    "    \"alcohol_addiction_GABRA2\",\n",
    "    \"tobacco_addiction_CHRNA5\",\n",
    "    \"taste_aversion_TAS2R16\",\n",
    "    \"spicy_food_TRPV1\",\n",
    "    \"carb_metabolism_PNPLA3\",\n",
    "    \"high_altitude_EGLN1\",\n",
    "    \"cold_response_UCP1\",\n",
    "    \"heat_response_TRPV1\",\n",
    "    \"voice_recovery_IL6\",\n",
    "    \"neuroplasticity_BDNF\",\n",
    "    \"sibling_similarity_ADD1\",\n",
    "    \"empathy_OXTR\",\n",
    "    \"common_colds_CDHR3\",\n",
    "    \"joint_pain_TRPA1\",\n",
    "    \"muscle_recovery_ACTN3\",\n",
    "    \"corneal_thickness_ZNF469\",\n",
    "    \"tear_production_AQP5\",\n",
    "    \"nail_growth_NFKB1\",\n",
    "    \"tattoo_fading_IRF4\",\n",
    "    \"sweat_odor_ABCC11\",\n",
    "    \"longevity_factors\",\n",
    "    \"oxidative_stress_SOD2\",\n",
    "    \"anti-aging_MTOR\",\n",
    "    \"tissue_regeneration_PAX7\",\n",
    "    \"radiation_susceptibility_TP53\",\n",
    "    \"umami_taste_TAS1R1\",\n",
    "    \"iron_supplementation_HFE\"\n",
    "]\n",
    "\n",
    "assert len(phenotypes_list) == num_phenotypes_total, f\"{len(phenotypes_list)} != num_phenotypes_total {num_phenotypes_total}\"\n",
    "\n",
    "header_base = \"FID IID\"\n",
    "\n",
    "for group, ratio in ethnic_groups_to_ratios.items():\n",
    "    print(f\"processing ethnic group: {group} with ratio: {ratio}\")\n",
    "\n",
    "    num_indivs_for_group = int(ratio * num_individuals)\n",
    "    print(f\"num indivs for group: {num_indivs_for_group}\")\n",
    "\n",
    "    curr_pheno_idx = 1  # 1-indexed\n",
    "    for file_idx in range(num_phenotypes_total // num_phenotypes_per_file):\n",
    "        with open(f\"../data/ethnic_data/phenotype_{num_indivs_for_group}_samples_{num_phenotypes_per_file}cols_{group}_ethnicity_{file_idx}.txt\", \"w\") as f:\n",
    "            # write header\n",
    "            header_chars = [header_base]\n",
    "            for pheno_idx in range(curr_pheno_idx, curr_pheno_idx + num_phenotypes_per_file):\n",
    "                # header_chars.append(f\" {phenotypes_list[pheno_idx - 1]}\")\n",
    "                header_chars.append(f\" Y{pheno_idx}\")\n",
    "            header_chars.append(\"\\n\")\n",
    "            f.write(\"\".join(header_chars))\n",
    "    \n",
    "            # draw from normal distribution\n",
    "            random_nums = np.random.normal(size=(num_indivs_for_group, num_phenotypes_per_file))\n",
    "    \n",
    "            # write data rows\n",
    "            for row_idx in tqdm(range(1, num_indivs_for_group + 1)): # 1-indexed\n",
    "                row_chars = [f\"{row_idx} {row_idx}\"]\n",
    "                for pheno_idx in range(num_phenotypes_per_file):\n",
    "                    row_chars.append(f\" {random_nums[row_idx - 1][pheno_idx]}\")  # 0-indexed\n",
    "                row_chars.append(\"\\n\")\n",
    "                f.write(\"\".join(row_chars))\n",
    "    \n",
    "        curr_pheno_idx += num_phenotypes_per_file"
   ]
  },
  {
   "cell_type": "markdown",
   "id": "1ffa39a7-e424-4410-9409-0fa09686ee4b",
   "metadata": {},
   "source": [
    "# AWS has limit of 1024 chars on any param value, so below is too long"
   ]
  },
  {
   "cell_type": "code",
   "execution_count": 38,
   "id": "39a59ed7-8d86-442e-94c4-d7d5d55facfa",
   "metadata": {},
   "outputs": [
    {
     "name": "stdout",
     "output_type": "stream",
     "text": [
      "Y1,Y2,Y3,Y4,Y5,Y6,Y7,Y8,Y9,Y10,Y11,Y12,Y13,Y14,Y15,Y16,Y17,Y18,Y19,Y20,Y21,Y22,Y23,Y24,Y25,Y26,Y27,Y28,Y29,Y30,Y31,Y32,Y33,Y34,Y35,Y36,Y37,Y38,Y39,Y40,Y41,Y42,Y43,Y44,Y45,Y46,Y47,Y48,Y49,Y50,Y51,Y52,Y53,Y54,Y55,Y56,Y57,Y58,Y59,Y60,Y61,Y62,Y63,Y64,Y65,Y66,Y67,Y68,Y69,Y70,Y71,Y72,Y73,Y74,Y75,Y76,Y77,Y78,Y79,Y80,Y81,Y82,Y83,Y84,Y85,Y86,Y87,Y88,Y89,Y90,Y91,Y92,Y93,Y94,Y95,Y96,Y97,Y98,Y99,Y100\n",
      "391\n"
     ]
    }
   ],
   "source": [
    "phenotypes_str_joined = \",\".join(f\"Y{i}\" for i in range(1, 101))\n",
    "print(phenotypes_str_joined)\n",
    "print(len(phenotypes_str_joined))"
   ]
  },
  {
   "cell_type": "code",
   "execution_count": 35,
   "id": "68e15db4-1641-4053-9386-b1fc821f0c51",
   "metadata": {},
   "outputs": [
    {
     "name": "stdout",
     "output_type": "stream",
     "text": [
      "2404\n",
      "diabetes_susceptibility_TCF7L3,diabetes_susceptibility_TCF7L4,cancer_susceptibility_TP54,facial_morphology_AXIN2,cognitive_performance_NTRK1,circadian_rhythm_PER2,leptin_resistance_A829C,blood_pressure_RS1711,lipid_metabolism_LPL-94C>T,amino_acid_metabolism_GATM-23G>A,sugar_metabolism_HNF1A-177G>C,memory_performance_BDNF,attention_span_DRD4-7R,intelligence_CMIP,cardiovascular_risk_9p21,diabetes_susceptibility_TCF7L2,cancer_susceptibility_TP53,sleep_duration_DEC2,morning_activity_PER3,evening_activity_CRY1,bone_density_OPN-660T>C,muscle_mass_ACTN3-R577X,hair_texture_HH-116G>A,earlobe_attachment_RS7794745,taste_preference_TAS2R38-PAV,olive_oil_sensitivity_OLE1,caffeine_metabolism_CYP1A2-163C>A,vitamin_d_metabolism_VDR-2228570,inflammation_response_IL6,allergic_susceptibility_HLA-DQ,musical_aptitude_SLC6A4,math_ability_FOXP2,language_acquisition_CNTNAP2,emotional_resilience_NPY,stress_response_CRHR1,immunodeficiency_IL2RG,gut_microbiome_composition_FUT2,thyroid_function_TPO,hormone_sensitivity_ESR1,age-cognitive_decline_APOE,neurodegenerative_risk_PSEN1,anaesthetic_response_SLC22A1,alcohol_metabolism_ADH1B,drug_response_CYP2D6,tooth_enamel_thickness_AMELX,tendon_strength_TNC,joint_mobility_COL5A1,eczema_susceptibility_FLG,scoliosis_predisposition_LMX1B,keloid_formation_TGFBR2,tumor_suppressor_TP53,telomere_length_TERT,hemoglobin_variant_HBB-7C>T,blood_clotting_F5,migraine_susceptibility_MTHFR,tinnitus_prevalence_16p11.2,colour_blindness_OPN1LW/OPN1MW,depth_perception_GNB3,muscle_fiber_composition_MYH7,sweat_gland_density_CFTR,finger_length_ratio_HOXA13,voice_pitch_AR,blisters_variant_COL7A1,scar_tissue_TGFB1,sleep_talking_ADH1B,dream_recollection_CACNA1C,sensory_processing_ADRA2B,hypermobility_syndrome_TNC,joint_hypermobility_COL1A1,osteoarthritis_GDF5,varicose_veins_FGG,vaccine_response_HLA-A,drug_addiction_DRD2,alcohol_addiction_GABRA2,tobacco_addiction_CHRNA5,taste_aversion_TAS2R16,spicy_food_TRPV1,carb_metabolism_PNPLA3,high_altitude_EGLN1,cold_response_UCP1,heat_response_TRPV1,voice_recovery_IL6,neuroplasticity_BDNF,sibling_similarity_ADD1,empathy_OXTR,common_colds_CDHR3,joint_pain_TRPA1,muscle_recovery_ACTN3,corneal_thickness_ZNF469,tear_production_AQP5,nail_growth_NFKB1,tattoo_fading_IRF4,sweat_odor_ABCC11,longevity_factors,oxidative_stress_SOD2,anti-aging_MTOR,tissue_regeneration_PAX7,radiation_susceptibility_TP53,umami_taste_TAS1R1,iron_supplementation_HFE\n"
     ]
    }
   ],
   "source": [
    "phenotypes_str_joined = \",\".join(phenotypes_list)\n",
    "print(len(phenotypes_str_joined))\n",
    "print(phenotypes_str_joined)"
   ]
  },
  {
   "cell_type": "markdown",
   "id": "e19f13a7-ed1e-4e1e-a796-e80a1b2df5ee",
   "metadata": {},
   "source": [
    "# need to generate our own .fam file too (use this to override the output of plink2 when converting .vcf --> .fam/.bed/.bim)\n",
    "- need to have matching FID & IID with phenotype.txt\n",
    "- need to have non-zero last column in .fam, can just generate some random numbers"
   ]
  },
  {
   "cell_type": "code",
   "execution_count": 14,
   "id": "ff1cfe9a-864c-49ae-8f30-22ca33589c81",
   "metadata": {},
   "outputs": [
    {
     "name": "stdout",
     "output_type": "stream",
     "text": [
      "processing ethnic group: chinese with ratio: 0.6\n",
      "num indivs for group: 60000\n"
     ]
    },
    {
     "name": "stderr",
     "output_type": "stream",
     "text": [
      "100%|██████████████████████████████████████████████████████████████████████████████████████████████████████| 60000/60000 [00:00<00:00, 823270.80it/s]\n"
     ]
    },
    {
     "name": "stdout",
     "output_type": "stream",
     "text": [
      "processing ethnic group: malay with ratio: 0.15\n",
      "num indivs for group: 15000\n"
     ]
    },
    {
     "name": "stderr",
     "output_type": "stream",
     "text": [
      "100%|█████████████████████████████████████████████████████████████████████████████████████████████████████| 15000/15000 [00:00<00:00, 1000549.62it/s]\n"
     ]
    },
    {
     "name": "stdout",
     "output_type": "stream",
     "text": [
      "processing ethnic group: indians with ratio: 0.15\n",
      "num indivs for group: 15000\n"
     ]
    },
    {
     "name": "stderr",
     "output_type": "stream",
     "text": [
      "100%|██████████████████████████████████████████████████████████████████████████████████████████████████████| 15000/15000 [00:00<00:00, 953467.61it/s]\n"
     ]
    },
    {
     "name": "stdout",
     "output_type": "stream",
     "text": [
      "processing ethnic group: others with ratio: 0.1\n",
      "num indivs for group: 10000\n"
     ]
    },
    {
     "name": "stderr",
     "output_type": "stream",
     "text": [
      "100%|██████████████████████████████████████████████████████████████████████████████████████████████████████| 10000/10000 [00:00<00:00, 960894.39it/s]\n"
     ]
    }
   ],
   "source": [
    "# this value doesn't really matter, I believe. \n",
    "# just doesn't have to be -9 (missing/problematic phenotype)\n",
    "\n",
    "for group, ratio in ethnic_groups_to_ratios.items():\n",
    "    print(f\"processing ethnic group: {group} with ratio: {ratio}\")\n",
    "\n",
    "    num_indivs_for_group = int(ratio * num_individuals)\n",
    "    print(f\"num indivs for group: {num_indivs_for_group}\")\n",
    "    \n",
    "    random_nums = np.random.normal(size=(num_indivs_for_group))\n",
    "    \n",
    "    with open(f\"../data/ethnic_data/{num_indivs_for_group}_samples_{group}_ethnicity.fam\", \"w\") as f:\n",
    "        for row_idx in tqdm(range(1, num_indivs_for_group + 1)):\n",
    "            f.write(f\"{row_idx}\\t{row_idx}\\t0\\t0\\t0\\t{random_nums[row_idx - 1]}\\n\")"
   ]
  },
  {
   "cell_type": "markdown",
   "id": "a422b63e-f1f1-48a9-b216-7d34e9a493cc",
   "metadata": {},
   "source": [
    "# write rsids.tsv - here also CHROM needs to match .vcf. only need 1 for whole GWAS (doesn't depend on ethnicity)"
   ]
  },
  {
   "cell_type": "code",
   "execution_count": 61,
   "id": "7a2392ed-91ba-4e50-a6dd-788f70533d99",
   "metadata": {},
   "outputs": [
    {
     "name": "stderr",
     "output_type": "stream",
     "text": [
      "100%|███████████████████████████████████████████████████████████████████| 100002/100002 [00:00<00:00, 1778187.17it/s]"
     ]
    },
    {
     "name": "stdout",
     "output_type": "stream",
     "text": [
      "incrementing chromosome index by 1, from 1\n",
      "incrementing chromosome index by 1, from 2\n",
      "incrementing chromosome index by 1, from 3\n",
      "incrementing chromosome index by 1, from 4\n",
      "incrementing chromosome index by 1, from 5\n",
      "incrementing chromosome index by 1, from 6\n",
      "incrementing chromosome index by 1, from 7\n",
      "incrementing chromosome index by 1, from 8\n",
      "incrementing chromosome index by 1, from 9\n",
      "incrementing chromosome index by 1, from 10\n",
      "incrementing chromosome index by 1, from 11\n",
      "incrementing chromosome index by 1, from 12\n",
      "incrementing chromosome index by 1, from 13\n",
      "incrementing chromosome index by 1, from 14\n",
      "incrementing chromosome index by 1, from 15\n",
      "incrementing chromosome index by 1, from 16\n",
      "incrementing chromosome index by 1, from 17\n",
      "incrementing chromosome index by 1, from 18\n",
      "incrementing chromosome index by 1, from 19\n",
      "incrementing chromosome index by 1, from 20\n",
      "incrementing chromosome index by 1, from 21\n"
     ]
    },
    {
     "name": "stderr",
     "output_type": "stream",
     "text": [
      "\n"
     ]
    }
   ],
   "source": [
    "chromosome_idx = 1\n",
    "rsid_init = 270000\n",
    "header_line = \"CHROM\tPOS\tRSID\tREF\tALT\tAAF\\n\"\n",
    "with open(f\"../data/ethnic_data_v2/rsids_{num_positions}_variants_{num_chromosomes}_chromosomes.tsv\", \"w\") as f:\n",
    "    f.write(header_line)\n",
    "\n",
    "    for row_idx in tqdm(range(1, num_positions + 1)):\n",
    "        f.write(f\"{chromosome_idx}\\t{row_idx}\\trs{rsid_init + row_idx}\\t2\\t1\\t0,1\\n\")\n",
    "        \n",
    "        if row_idx % variants_per_chromosome == 0:\n",
    "            print(f\"incrementing chromosome index by 1, from {chromosome_idx}\")\n",
    "            chromosome_idx += 1"
   ]
  },
  {
   "cell_type": "code",
   "execution_count": null,
   "id": "10e37b47-5c97-4501-9c14-8cfaa781b7f1",
   "metadata": {},
   "outputs": [],
   "source": []
  },
  {
   "cell_type": "code",
   "execution_count": null,
   "id": "3e917488-50fc-4124-ac31-db6b0727a5a0",
   "metadata": {},
   "outputs": [],
   "source": []
  }
 ],
 "metadata": {
  "kernelspec": {
   "display_name": "Python 3 (ipykernel)",
   "language": "python",
   "name": "python3"
  },
  "language_info": {
   "codemirror_mode": {
    "name": "ipython",
    "version": 3
   },
   "file_extension": ".py",
   "mimetype": "text/x-python",
   "name": "python",
   "nbconvert_exporter": "python",
   "pygments_lexer": "ipython3",
   "version": "3.11.7"
  }
 },
 "nbformat": 4,
 "nbformat_minor": 5
}
